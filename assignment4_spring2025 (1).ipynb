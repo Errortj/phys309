{
 "cells": [
  {
   "cell_type": "markdown",
   "id": "33885243",
   "metadata": {},
   "source": [
    "# Bohr models of ions\n",
    "\n",
    "The Bohr model works for atoms with only one electron. Adding electrons would require accounting for their mutual Coulomb forces, which would depend on the electrons' locations in their orbits. However, there are ions that have only one electron, for which a small modification to the Bohr model can predict their energy levels.\n",
    "\n",
    "Read the notebook <tt>Bohr_model_extensions.ipynb</tt>, which is on the class GitHub page. You will be using Equation 1 to compare the photon energy that correspond to energy level transitions in hydrogen, singly-ionized helium, and doubly-ionized lithium.\n",
    "\n",
    "Note: you are responsible for importing the packages you need and making sure your axis labels are large enough to be readable.\n",
    "\n",
    "<ol>\n",
    "    <li>Write a function that finds the photon <em>energy</em> in eV (calculate it from the wavelength predicted by the Rydberg equation) that moves an electron between levels $n$ and $n+1$. The independent variables of your function should be $Z$ (atomic number) and $n$. Do not hand-code any constants: use the pre-programmed values in <tt>scipy</tt>.</li>\n",
    "</ol>"
   ]
  },
  {
   "cell_type": "code",
   "execution_count": 3,
   "id": "d9969682",
   "metadata": {},
   "outputs": [],
   "source": [
    "from scipy.constants import Rydberg, h, c, e\n",
    "\n",
    "def photon_energy(Z, n):\n",
    "    # Rydberg wavelength formula: 1/λ = R * Z^2 * (1/n^2 - 1/(n+1)^2)\n",
    "    R = Rydberg\n",
    "    wavelength = 1 / (R * Z**2 * (1/n**2 - 1/(n+1)**2))\n",
    "    # Energy in eV: E = hc / (λ * e)\n",
    "    energy = (h * c) / (wavelength * e)\n",
    "    return energy\n",
    "\n",
    "# Example usage (uncomment to test)\n",
    "# print(photon_energy(1, 1))"
   ]
  },
  {
   "cell_type": "markdown",
   "id": "3eb29aa5",
   "metadata": {},
   "source": [
    "<ol start = 2>\n",
    "    <li>Use the python function of your choice to create an integer <em>array</em> (not list) of values $n = 1, 2, \\ldots, 10$. Do not simply hard-code in all the numbers by hand. Create a second array (not list) of atomic numbers $Z = 1, 2, 3$, again using a python function.</li>\n",
    "</ol>"
   ]
  },
  {
   "cell_type": "code",
   "execution_count": null,
   "id": "105af0f4",
   "metadata": {},
   "outputs": [],
   "source": [
    "import numpy as np\n",
    "\n",
    "n = np.arange(1, 11, dtype=int)  # Array of n values from 1 to 10\n",
    "Z = np.arange(1, 4, dtype=int)   # Array of Z values from 1 to 3"
   ]
  },
  {
   "cell_type": "markdown",
   "id": "fdc267f4",
   "metadata": {},
   "source": [
    "<ol start=3>\n",
    "    <li>For each combination of $Z$ and $n$, calculate the energy of light required to move from level $n$ to $n+1$. Store the results in an array with 3 rows and 10 columns. You may find the meshgrid command helpful.</li>\n",
    "</ol>"
   ]
  },
  {
   "cell_type": "code",
   "execution_count": 7,
   "id": "fb38e7e0",
   "metadata": {},
   "outputs": [
    {
     "name": "stdout",
     "output_type": "stream",
     "text": [
      "(10, 3)\n"
     ]
    }
   ],
   "source": [
    "import numpy as np\n",
    "from scipy.constants import Rydberg, h, c, e\n",
    "\n",
    "# Define arrays for Z and n (from step 2)\n",
    "n = np.arange(1, 11, dtype=int)  # n from 1 to 10\n",
    "Z = np.arange(1, 4, dtype=int)   # Z from 1 to 3\n",
    "\n",
    "# Define the photon_energy function (from step 1)\n",
    "def photon_energy(Z, n):\n",
    "    wavelength = 1 / (Rydberg * Z**2 * (1/n**2 - 1/(n+1)**2))\n",
    "    energy = (h * c) / (wavelength * e)\n",
    "    return energy\n",
    "\n",
    "# Create meshgrid and calculate energy (from step 3)\n",
    "Zv, nv = np.meshgrid(Z, n)\n",
    "energy_array = photon_energy(Zv, nv)\n",
    "\n",
    "# Optional: print to verify\n",
    "print(energy_array.shape)  # Should be (10, 3)"
   ]
  },
  {
   "cell_type": "markdown",
   "id": "4ce0665f",
   "metadata": {},
   "source": [
    "<ol start=4>\n",
    "    <li>Now you are going to make a color-coded plot. With $n$ on the x-axis and $z$ on the y-axis, add a circle to your plot at each $(n,z)$ ordered pair with the color determined by the energy calculated in question 3. Make sure your plot has a colorbar to show the energy scale, and put units on the colorbar. x and y axes should also be labeled.</li>\n",
    "</ol>\n",
    "\n",
    "I am including an example plot showing arbitrary dependent variable $w$ on a color scale as a function of independent variables $u$ and $v$. None of these variables mean anything; this example is just to help you visualize what your plot should look like."
   ]
  },
  {
   "cell_type": "code",
   "execution_count": 1,
   "id": "4585afc3",
   "metadata": {},
   "outputs": [
    {
     "data": {
      "image/png": "[encoded data removed]",
      "text/plain": [
       "<PIL.PngImagePlugin.PngImageFile image mode=RGBA size=430x142 at 0x7F99291137C0>"
      ]
     },
     "metadata": {},
     "output_type": "display_data"
    }
   ],
   "source": [
    "from PIL import Image\n",
    "sample = Image.open(\"color_coded_scatter_example.png\")\n",
    "display(sample)"
   ]
  },
  {
   "cell_type": "markdown",
   "id": "ecf1d35d",
   "metadata": {},
   "source": [
    "Code that might help you make your plot is in the cell below. You are free to do something else if you prefer."
   ]
  },
  {
   "cell_type": "code",
   "execution_count": 15,
   "id": "d4c9baa3",
   "metadata": {},
   "outputs": [
    {
     "ename": "NameError",
     "evalue": "name 'make_axes_locatable' is not defined",
     "output_type": "error",
     "traceback": [
      "\u001b[1;31m---------------------------------------------------------------------------\u001b[0m",
      "\u001b[1;31mNameError\u001b[0m                                 Traceback (most recent call last)",
      "Cell \u001b[1;32mIn[15], line 25\u001b[0m\n\u001b[0;32m     22\u001b[0m ax\u001b[38;5;241m.\u001b[39mset_aspect(\u001b[38;5;124m'\u001b[39m\u001b[38;5;124mequal\u001b[39m\u001b[38;5;124m'\u001b[39m)\n\u001b[0;32m     24\u001b[0m \u001b[38;5;66;03m# Create colorbar\u001b[39;00m\n\u001b[1;32m---> 25\u001b[0m divider \u001b[38;5;241m=\u001b[39m make_axes_locatable(ax)\n\u001b[0;32m     26\u001b[0m cax \u001b[38;5;241m=\u001b[39m divider\u001b[38;5;241m.\u001b[39mappend_axes(\u001b[38;5;124m\"\u001b[39m\u001b[38;5;124mright\u001b[39m\u001b[38;5;124m\"\u001b[39m, size\u001b[38;5;241m=\u001b[39m\u001b[38;5;124m\"\u001b[39m\u001b[38;5;124m8\u001b[39m\u001b[38;5;124m%\u001b[39m\u001b[38;5;124m\"\u001b[39m, pad\u001b[38;5;241m=\u001b[39m\u001b[38;5;241m0.1\u001b[39m)\n\u001b[0;32m     27\u001b[0m cbar \u001b[38;5;241m=\u001b[39m plt\u001b[38;5;241m.\u001b[39mcolorbar(plot1, cax\u001b[38;5;241m=\u001b[39mcax)\n",
      "\u001b[1;31mNameError\u001b[0m: name 'make_axes_locatable' is not defined"
     ]
    },
    {
     "data": {
      "image/png": "[encoded data removed]",
      "text/plain": [
       "<Figure size 600x600 with 1 Axes>"
      ]
     },
     "metadata": {},
     "output_type": "display_data"
    }
   ],
   "source": [
    "from mpl_toolkits.axes_grid1 import make_axes_locatable\n",
    "\n",
    "fig, ax = plt.subplots(1, 1, figsize=(6,6))\n",
    "plot1 = ax.scatter(nv, Zv, ...) # Look up how to make a color-coded scatter plot\n",
    "ax.set_aspect('equal')\n",
    "\n",
    "# Create a colorbar axis on the right side of ax. The width of cax will be 8%\n",
    "# of ax and the padding between cax and ax will be fixed at 0.1 inch.\n",
    "divider = make_axes_locatable(ax)\n",
    "cax = divider.append_axes(\"right\", size=\"8%\", pad=0.1)\n",
    "cbar = plt.colorbar(plot1, cax=cax)\n",
    "cbar.ax.tick_params(labelsize=12) \n",
    "cbar.set_label('...')"
   ]
  },
  {
   "cell_type": "code",
   "execution_count": 19,
   "id": "1f807f8c-47af-4e03-a935-a0887fe3ccc9",
   "metadata": {},
   "outputs": [
    {
     "data": {
      "image/png": "[encoded data removed]",
      "text/plain": [
       "<Figure size 600x600 with 2 Axes>"
      ]
     },
     "metadata": {},
     "output_type": "display_data"
    }
   ],
   "source": [
    "import numpy as np\n",
    "from scipy.constants import Rydberg, h, c, e\n",
    "import matplotlib.pyplot as plt\n",
    "from mpl_toolkits.axes_grid1 import make_axes_locatable\n",
    "\n",
    "# From previous steps\n",
    "n = np.arange(1, 11, dtype=int)\n",
    "Z = np.arange(1, 4, dtype=int)\n",
    "\n",
    "def photon_energy(Z, n):\n",
    "    wavelength = 1 / (Rydberg * Z**2 * (1/n**2 - 1/(n+1)**2))\n",
    "    energy = (h * c) / (wavelength * e)\n",
    "    return energy\n",
    "\n",
    "Zv, nv = np.meshgrid(Z, n)\n",
    "energy_array = photon_energy(Zv, nv)\n",
    "\n",
    "# Create the scatter plot\n",
    "fig, ax = plt.subplots(1, 1, figsize=(6, 6))\n",
    "plot1 = ax.scatter(nv, Zv, c=energy_array, cmap='viridis')\n",
    "\n",
    "# Set aspect ratio\n",
    "ax.set_aspect('equal')\n",
    "\n",
    "# Create colorbar\n",
    "divider = make_axes_locatable(ax)\n",
    "cax = divider.append_axes(\"right\", size=\"8%\", pad=0.1)\n",
    "cbar = plt.colorbar(plot1, cax=cax)\n",
    "cbar.ax.tick_params(labelsize=12)\n",
    "cbar.set_label('Energy (eV)', fontsize=12)\n",
    "\n",
    "# Label axes\n",
    "ax.set_xlabel('n', fontsize=12)\n",
    "ax.set_ylabel('Z', fontsize=12)\n",
    "\n",
    "plt.show()"
   ]
  },
  {
   "cell_type": "code",
   "execution_count": null,
   "id": "3b306c7d-e238-44ca-b53c-a53b756b6672",
   "metadata": {},
   "outputs": [],
   "source": []
  }
 ],
 "metadata": {
  "kernelspec": {
   "display_name": "Python [conda env:base] *",
   "language": "python",
   "name": "conda-base-py"
  },
  "language_info": {
   "codemirror_mode": {
    "name": "ipython",
    "version": 3
   },
   "file_extension": ".py",
   "mimetype": "text/x-python",
   "name": "python",
   "nbconvert_exporter": "python",
   "pygments_lexer": "ipython3",
   "version": "3.12.7"
  }
 },
 "nbformat": 4,
 "nbformat_minor": 5
}
